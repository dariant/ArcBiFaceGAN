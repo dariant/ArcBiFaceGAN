{
 "cells": [
  {
   "attachments": {},
   "cell_type": "markdown",
   "metadata": {},
   "source": [
    "### Train identity-conditioned DB-StyleGAN2:"
   ]
  },
  {
   "cell_type": "code",
   "execution_count": null,
   "metadata": {},
   "outputs": [],
   "source": [
    "\n",
    "path_to_training_dataset = \"\"\n",
    "output_folder = \"EXPERIMENTS/training_output\"\n",
    "\n",
    "NIR_loss_weight = 0.1\n",
    "\n",
    "!bash ./docker_run.sh python training.py --NIR_loss_weight=$NIR_loss_weight --cfg=\"auto\" --snap=20 --gpus=1 --mirror=1 --GPU_DEVICE_NUMBER=0 --batch=12  --data=$path_to_training_dataset  --outdir=$output_folder --cond=1\n"
   ]
  },
  {
   "cell_type": "markdown",
   "metadata": {},
   "source": [
    "### Continue training:"
   ]
  },
  {
   "cell_type": "code",
   "execution_count": null,
   "metadata": {},
   "outputs": [],
   "source": [
    "path_to_training_dataset = \"\"\n",
    "path_to_pretrained_pkl_model = \"\"\n",
    "output_folder = \"EXPERIMENTS/training_output_continued\"\n",
    "\n",
    "NIR_loss_weight = 0.5\n",
    "\n",
    "!bash ./docker_run.sh python training.py --NIR_loss_weight=$NIR_loss_weight --cfg=\"auto\" --snap=20 --gpus=1 --mirror=1 --GPU_DEVICE_NUMBER=0 --batch=12  --data=$path_to_training_dataset --resume=$path_to_pretrained_pkl_model --outdir=$output_folder --cond=1\n"
   ]
  },
  {
   "cell_type": "code",
   "execution_count": null,
   "metadata": {},
   "outputs": [],
   "source": []
  },
  {
   "cell_type": "markdown",
   "metadata": {},
   "source": [
    "### Data generation:"
   ]
  },
  {
   "cell_type": "code",
   "execution_count": null,
   "metadata": {},
   "outputs": [],
   "source": [
    "!bash ./docker_run.sh python generate_recognition_data.py"
   ]
  },
  {
   "cell_type": "code",
   "execution_count": null,
   "metadata": {},
   "outputs": [],
   "source": []
  }
 ],
 "metadata": {
  "interpreter": {
   "hash": "18479fac5746d32b43421ca5e0ee2dd5840b086e4ab03684aa8ec83129c0c31d"
  },
  "kernelspec": {
   "display_name": "Python 3.8.12 64-bit ('dataGAN': conda)",
   "language": "python",
   "name": "python3"
  },
  "language_info": {
   "codemirror_mode": {
    "name": "ipython",
    "version": 3
   },
   "file_extension": ".py",
   "mimetype": "text/x-python",
   "name": "python",
   "nbconvert_exporter": "python",
   "pygments_lexer": "ipython3",
   "version": "3.10.6"
  },
  "orig_nbformat": 4
 },
 "nbformat": 4,
 "nbformat_minor": 2
}
